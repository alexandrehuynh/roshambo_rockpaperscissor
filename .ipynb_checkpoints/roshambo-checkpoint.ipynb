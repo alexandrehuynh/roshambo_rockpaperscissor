{
 "cells": [
  {
   "cell_type": "code",
   "execution_count": 2,
   "id": "8037ca46-4683-4a5a-9794-17959fcaf96a",
   "metadata": {
    "tags": []
   },
   "outputs": [],
   "source": [
    "import random\n",
    "roshambo = [\"rock\", \"paper\", \"scissors\"]"
   ]
  },
  {
   "cell_type": "code",
   "execution_count": 19,
   "id": "b590b0bf-b74d-4379-ab98-6cc3a7ec7815",
   "metadata": {
    "tags": []
   },
   "outputs": [
    {
     "name": "stdout",
     "output_type": "stream",
     "text": [
      "move:  ['scissors', 'paper', 'rock', 'paper']\n"
     ]
    }
   ],
   "source": [
    "cpu_choice = random.choices(roshambo, k = 4)\n",
    "print(\"move: \", (cpu_choice)) #list"
   ]
  },
  {
   "cell_type": "code",
   "execution_count": 20,
   "id": "17dfea9e-cd17-44e6-b5b9-d11a87f476be",
   "metadata": {
    "tags": []
   },
   "outputs": [
    {
     "name": "stdout",
     "output_type": "stream",
     "text": [
      "scissors\n",
      "paper\n",
      "rock\n",
      "paper\n"
     ]
    }
   ],
   "source": [
    "for move in cpu_choice:\n",
    "    print(move)"
   ]
  },
  {
   "cell_type": "code",
   "execution_count": 14,
   "id": "a31bd7f0-e824-4039-9c81-d0254aa565f5",
   "metadata": {
    "tags": []
   },
   "outputs": [
    {
     "name": "stdout",
     "output_type": "stream",
     "text": [
      "move:  ['scissors']\n"
     ]
    }
   ],
   "source": [
    "cpu_choice = random.choices(roshambo)\n",
    "print(\"move: \", (cpu_choice))"
   ]
  },
  {
   "cell_type": "code",
   "execution_count": 65,
   "id": "1b9be19d-2979-4d71-b06e-69288dfd1075",
   "metadata": {
    "tags": []
   },
   "outputs": [
    {
     "name": "stdout",
     "output_type": "stream",
     "text": [
      "I chose: paper\n",
      "cpu chose: rock\n",
      "the results is: I win\n"
     ]
    }
   ],
   "source": [
    "move_user = \"paper\"\n",
    "cpu_move = \"rock\"\n",
    "\n",
    "\n",
    "def who_da_winner(me, cpu):\n",
    "\n",
    "    if move_user == \"rock\":\n",
    "        if cpu_move == \"paper\":\n",
    "            return(\"lose\")\n",
    "        elif cpu_move == \"rock\":\n",
    "            return(\"tie\")\n",
    "        elif cpu_move == \"scissor\":\n",
    "            return(\"win\")\n",
    "        else:\n",
    "            return(\"something went wrong\")\n",
    "            \n",
    "    if move_user == \"paper\":\n",
    "        if cpu_move == \"paper\":\n",
    "            return(\"tie\")\n",
    "        elif cpu_move == \"rock\":\n",
    "            return(\"win\")\n",
    "        elif cpu_move == \"scissor\":\n",
    "            return(\"lose\")\n",
    "        else:\n",
    "            return(\"something went wrong\")\n",
    "            \n",
    "    if move_user == \"scissor\":\n",
    "        if cpu_move == \"paper\":\n",
    "            return(\"win\")\n",
    "        elif cpu_move == \"rock\":\n",
    "            return(\"lose\")\n",
    "        elif cpu_move == \"scissor\":\n",
    "            return(\"tie\")\n",
    "        else:\n",
    "            return(\"something went wrong\")\n",
    "\n",
    "\n",
    "who_da_winner(move_user, cpu_move)        \n",
    "print(f\"I chose: {move_user}\\ncpu chose: {cpu_move}\\nthe results is: I {who_da_winner(move_user, cpu_move)  }\")"
   ]
  },
  {
   "cell_type": "markdown",
   "id": "1f537234-4f6f-4078-a9f8-a61b447fc2b2",
   "metadata": {},
   "source": [
    "#### One Game Checkpoint"
   ]
  },
  {
   "cell_type": "code",
   "execution_count": 16,
   "id": "64e1b103-f424-4b01-a2f1-fb18dda79af1",
   "metadata": {
    "tags": []
   },
   "outputs": [
    {
     "name": "stdin",
     "output_type": "stream",
     "text": [
      "Choose Rock, Paper, or Scissors:  paper\n"
     ]
    },
    {
     "name": "stdout",
     "output_type": "stream",
     "text": [
      "CPU chose: scissors\n",
      "You lose!\n"
     ]
    }
   ],
   "source": [
    "import random\n",
    "\n",
    "def roshambo():\n",
    "    \n",
    "    choices = [\"rock\", \"paper\", \"scissors\"] # tells python the options\n",
    "    \n",
    "    rules = {\n",
    "        \"rock\": \"scissors\",\n",
    "        \"paper\": \"rock\",\n",
    "        \"scissors\": \"paper\"\n",
    "    } # rules are forever in dictionary\n",
    "    \n",
    "    user_input = input(\"Choose Rock, Paper, or Scissors: \").strip().lower()\n",
    "\n",
    "    while user_input not in choices:  # not an option\n",
    "        print(\"Invalid choice. Please choose Rock, Paper, or Scissors.\")\n",
    "        user_input = input(\"Choose Rock, Paper, or Scissors: \").strip().lower()\n",
    "\n",
    "        \n",
    "    cpu_choice = random.choice(choices)\n",
    "    print(f\"CPU chose: {cpu_choice}\")\n",
    "\n",
    "    # Determine the winner\n",
    "    if user_input == cpu_choice:\n",
    "        return \"It's a tie!\"\n",
    "    elif rules[user_input] == cpu_choice:\n",
    "        return \"You win!\"\n",
    "    else:\n",
    "        return \"You lose!\"\n",
    "\n",
    "\n",
    "    \n",
    "####    MAIN FUNCTION    ####    \n",
    "\n",
    "print(roshambo())"
   ]
  },
  {
   "cell_type": "markdown",
   "id": "4e6f50f1-08c3-4905-be8e-dcf80053a0ec",
   "metadata": {
    "tags": []
   },
   "source": [
    "#### exit game"
   ]
  },
  {
   "cell_type": "code",
   "execution_count": 19,
   "id": "d3d3eae8-6323-45c9-b5c0-eaff3728f40d",
   "metadata": {},
   "outputs": [
    {
     "name": "stdin",
     "output_type": "stream",
     "text": [
      "Choose Rock, Paper, or Scissors (or 'exit' to quit):  hi\n",
      "Choose Rock, Paper, or Scissors (or 'exit' to quit):  quit\n"
     ]
    }
   ],
   "source": [
    "while True: # start the lop\n",
    "    user_input = input(\"Choose Rock, Paper, or Scissors (or 'exit' to quit): \").strip().lower()\n",
    "\n",
    "    # break: allow user to leave game\n",
    "    # if user_input == 'exit':\n",
    "    if user_input in ['exit', 'quit','forfeit', 'stop', 'surrender' 'leave', ]:\n",
    "        break"
   ]
  },
  {
   "cell_type": "markdown",
   "id": "c4e2b3d0-63d4-4e90-9855-1ec0a731c2e1",
   "metadata": {},
   "source": [
    "#### invalid option"
   ]
  },
  {
   "cell_type": "code",
   "execution_count": 15,
   "id": "96ce1c50-28b8-407f-8538-94cd39c4f61b",
   "metadata": {
    "tags": []
   },
   "outputs": [
    {
     "name": "stdin",
     "output_type": "stream",
     "text": [
      "Rock, Paper, Scissors:  rock\n",
      "Rock, Paper, Scissors:  ro\n"
     ]
    },
    {
     "name": "stdout",
     "output_type": "stream",
     "text": [
      "Stop cheating. Only Rock, Paper, or Scissors\n",
      "Ready? \n"
     ]
    },
    {
     "name": "stdin",
     "output_type": "stream",
     "text": [
      "Rock, Paper, Scissors:  so\n"
     ]
    },
    {
     "name": "stdout",
     "output_type": "stream",
     "text": [
      "Stop cheating. Only Rock, Paper, or Scissors\n",
      "Ready? \n"
     ]
    },
    {
     "name": "stdin",
     "output_type": "stream",
     "text": [
      "Rock, Paper, Scissors:  quit\n"
     ]
    }
   ],
   "source": [
    "choices = [\"rock\", \"paper\", \"scissors\"]\n",
    "    \n",
    "while True: # start the lop\n",
    "        user_input = input(\"Choose Rock, Paper, or Scissors (or 'exit' to quit): \").strip().lower()\n",
    "\n",
    "            # break: allow user to leave game\n",
    "    if user_input in ['exit', 'quit','forfeit', 'stop', 'surrender' 'leave', ]:\n",
    "        break\n",
    "            \n",
    "    if user_input not in choices: # edge case: valid user input\n",
    "        print(\"Stop cheating. Only Rock, Paper, or Scissors\\nReady? \")\n",
    "        continue"
   ]
  },
  {
   "cell_type": "markdown",
   "id": "9edda795-abc8-4e25-a593-ac4cc5b2ed76",
   "metadata": {},
   "source": [
    "#### Multiple Rounds + keep score"
   ]
  },
  {
   "cell_type": "code",
   "execution_count": 104,
   "id": "317108be-b61a-40a3-93f9-de7d70c5b053",
   "metadata": {
    "tags": []
   },
   "outputs": [
    {
     "name": "stdin",
     "output_type": "stream",
     "text": [
      "Choose Rock, Paper, or Scissors (or 'exit' to quit):  rock\n"
     ]
    },
    {
     "name": "stdout",
     "output_type": "stream",
     "text": [
      "CPU chose: scissors\n",
      "You win!\n",
      "Score: You - 1, CPU - 0, Ties - 0\n",
      "\n"
     ]
    },
    {
     "name": "stdin",
     "output_type": "stream",
     "text": [
      "Choose Rock, Paper, or Scissors (or 'exit' to quit):  paper\n"
     ]
    },
    {
     "name": "stdout",
     "output_type": "stream",
     "text": [
      "CPU chose: scissors\n",
      "You lose!\n",
      "Score: You - 1, CPU - 1, Ties - 0\n",
      "\n"
     ]
    },
    {
     "name": "stdin",
     "output_type": "stream",
     "text": [
      "Choose Rock, Paper, or Scissors (or 'exit' to quit):  exit\n"
     ]
    },
    {
     "name": "stdout",
     "output_type": "stream",
     "text": [
      "Final Score: You - 1, CPU - 1, Ties - 0\n"
     ]
    }
   ],
   "source": [
    "import random\n",
    "\n",
    "def roshambo():\n",
    "    choices = [\"rock\", \"paper\", \"scissors\"]\n",
    "    rules = {\n",
    "        \"rock\": \"scissors\",\n",
    "        \"paper\": \"rock\",\n",
    "        \"scissors\": \"paper\"\n",
    "    }\n",
    "\n",
    "    point_me, point_machines, stalemate = 0, 0, 0\n",
    "\n",
    "    while True: \n",
    "        user_input = input(\"Choose Rock, Paper, or Scissors (or 'exit' to quit): \").strip().lower()\n",
    "\n",
    "        if user_input == 'exit':\n",
    "            break\n",
    "\n",
    "        while user_input not in choices:\n",
    "            print(\"Invalid choice. Please choose Rock, Paper, or Scissors.\")\n",
    "            user_input = input(\"Choose Rock, Paper, or Scissors: \").strip().lower()\n",
    "\n",
    "        cpu_choice = random.choice(choices)\n",
    "        print(f\"CPU chose: {cpu_choice}\")\n",
    "\n",
    "        if user_input == cpu_choice:\n",
    "            print(\"It's a tie!\")\n",
    "            stalemate += 1\n",
    "        elif rules[user_input] == cpu_choice:\n",
    "            print(\"You win!\")\n",
    "            point_me += 1\n",
    "        else:\n",
    "            print(\"You lose!\")\n",
    "            point_machines += 1\n",
    "\n",
    "        print(f\"Score: You - {point_me}, CPU - {point_machines}, Ties - {stalemate}\\n\")\n",
    "\n",
    "    return f\"Final Score: You - {point_me}, CPU - {point_machines}, Ties - {stalemate}\"\n",
    "\n",
    "\n",
    "####    MAIN FUNCTION    ####    \n",
    "\n",
    "print(roshambo())"
   ]
  },
  {
   "cell_type": "markdown",
   "id": "8c342c31-e694-47bd-b82e-d1b1aebc6839",
   "metadata": {},
   "source": [
    "#### Goes for x rounds + store history"
   ]
  },
  {
   "cell_type": "code",
   "execution_count": 114,
   "id": "8f2127e5-dd5b-4f64-98bf-92aeed1d62b5",
   "metadata": {
    "tags": []
   },
   "outputs": [
    {
     "name": "stdout",
     "output_type": "stream",
     "text": [
      "Welcome to Roshambo!\n"
     ]
    },
    {
     "name": "stdin",
     "output_type": "stream",
     "text": [
      "How many rounds would you like to play?  4\n",
      "Choose Rock, Paper, or Scissors:  rock\n"
     ]
    },
    {
     "name": "stdout",
     "output_type": "stream",
     "text": [
      "CPU chose: rock\n",
      "It's a tie!\n"
     ]
    },
    {
     "name": "stdin",
     "output_type": "stream",
     "text": [
      "Choose Rock, Paper, or Scissors:  paper\n"
     ]
    },
    {
     "name": "stdout",
     "output_type": "stream",
     "text": [
      "CPU chose: scissors\n",
      "You lose!\n"
     ]
    },
    {
     "name": "stdin",
     "output_type": "stream",
     "text": [
      "Choose Rock, Paper, or Scissors:  scissors\n"
     ]
    },
    {
     "name": "stdout",
     "output_type": "stream",
     "text": [
      "CPU chose: rock\n",
      "You lose!\n"
     ]
    },
    {
     "name": "stdin",
     "output_type": "stream",
     "text": [
      "Choose Rock, Paper, or Scissors:  rock\n"
     ]
    },
    {
     "name": "stdout",
     "output_type": "stream",
     "text": [
      "CPU chose: paper\n",
      "You lose!\n",
      "Final Score: You - 0, CPU - 3, Ties - 1\n",
      "Round 1: You chose rock, CPU chose rock\n",
      "Round 2: You chose paper, CPU chose scissors\n",
      "Round 3: You chose scissors, CPU chose rock\n",
      "Round 4: You chose rock, CPU chose paper\n"
     ]
    }
   ],
   "source": [
    "import random\n",
    "\n",
    "def roshambo():\n",
    "    choices = [\"rock\", \"paper\", \"scissors\"]\n",
    "    rules = {\n",
    "        \"rock\": \"scissors\",\n",
    "        \"paper\": \"rock\",\n",
    "        \"scissors\": \"paper\"\n",
    "    }\n",
    "\n",
    "    print(\"Welcome to Roshambo!\")\n",
    "    rounds = int(input(\"How many rounds would you like to play? \"))\n",
    "\n",
    "    point_me, point_machines, stalemate = 0, 0, 0\n",
    "    scoreboard = []\n",
    "\n",
    "    for _ in range(rounds):\n",
    "        user_input = input(\"Choose Rock, Paper, or Scissors: \").strip().lower()\n",
    "        while user_input not in choices:\n",
    "            print(\"Invalid choice. Please choose Rock, Paper, or Scissors.\")\n",
    "            user_input = input(\"Choose Rock, Paper, or Scissors: \").strip().lower()\n",
    "\n",
    "        cpu_choice = random.choice(choices)  \n",
    "        print(f\"CPU chose: {cpu_choice}\")\n",
    "\n",
    "        if user_input == cpu_choice:\n",
    "            print(\"It's a tie!\")\n",
    "            stalemate += 1\n",
    "        elif rules[user_input] == cpu_choice:\n",
    "            print(\"You win!\")\n",
    "            point_me += 1\n",
    "        else:\n",
    "            print(\"You lose!\")\n",
    "            point_machines += 1\n",
    "\n",
    "        scoreboard.append((user_input, cpu_choice))\n",
    "\n",
    "    # Buzzer Sound Scoreboard \n",
    "    print(f\"Final Score: You - {point_me}, CPU - {point_machines}, Ties - {stalemate}\")\n",
    "    \n",
    "    # Play Recap\n",
    "    for index, (user, cpu) in enumerate(scoreboard, start=1):\n",
    "        print(f\"Round {index}: You chose {user}, CPU chose {cpu}\")\n",
    "\n",
    "# Main function\n",
    "roshambo()\n"
   ]
  },
  {
   "cell_type": "code",
   "execution_count": null,
   "id": "6ca38251-88d9-4957-8ea4-d8069540ae27",
   "metadata": {},
   "outputs": [],
   "source": []
  },
  {
   "cell_type": "markdown",
   "id": "12303225-2202-4035-88b5-9baf9f10f0d3",
   "metadata": {},
   "source": [
    "#### change it to continuous loop"
   ]
  },
  {
   "cell_type": "code",
   "execution_count": 20,
   "id": "46ac19f6-72c3-407f-ad05-ddddb7b0c816",
   "metadata": {
    "tags": []
   },
   "outputs": [
    {
     "name": "stdout",
     "output_type": "stream",
     "text": [
      "Welcome to Roshambo!\n",
      "exit, quit, stop, or leave at anytime \n",
      "\n"
     ]
    },
    {
     "name": "stdin",
     "output_type": "stream",
     "text": [
      "Draw on scisssors...\n",
      "  Rock, Paper, Scissors\n",
      "\n",
      "    Shoot: rock\n"
     ]
    },
    {
     "name": "stdout",
     "output_type": "stream",
     "text": [
      "CPU chose: Scissors\n",
      "\n",
      "Round Result: You win! 🏆\n",
      "Current Score: Team We - 1, Machines - 0, Stalemates - 0\n",
      "\n"
     ]
    },
    {
     "name": "stdin",
     "output_type": "stream",
     "text": [
      "Draw on scisssors...\n",
      "  Rock, Paper, Scissors\n",
      "\n",
      "    Shoot: Rock\n"
     ]
    },
    {
     "name": "stdout",
     "output_type": "stream",
     "text": [
      "CPU chose: Rock\n",
      "\n",
      "Round Result: It's a tie! 🤝\n",
      "Current Score: Team We - 1, Machines - 0, Stalemates - 1\n",
      "\n"
     ]
    },
    {
     "name": "stdin",
     "output_type": "stream",
     "text": [
      "Draw on scisssors...\n",
      "  Rock, Paper, Scissors\n",
      "\n",
      "    Shoot: Paper\n"
     ]
    },
    {
     "name": "stdout",
     "output_type": "stream",
     "text": [
      "CPU chose: Scissors\n",
      "\n",
      "Round Result: You lose! 🤖\n",
      "Current Score: Team We - 1, Machines - 1, Stalemates - 1\n",
      "\n"
     ]
    },
    {
     "name": "stdin",
     "output_type": "stream",
     "text": [
      "Draw on scisssors...\n",
      "  Rock, Paper, Scissors\n",
      "\n",
      "    Shoot: paper\n"
     ]
    },
    {
     "name": "stdout",
     "output_type": "stream",
     "text": [
      "CPU chose: Rock\n",
      "\n",
      "Round Result: You win! 🏆\n",
      "Current Score: Team We - 2, Machines - 1, Stalemates - 1\n",
      "\n"
     ]
    },
    {
     "name": "stdin",
     "output_type": "stream",
     "text": [
      "Draw on scisssors...\n",
      "  Rock, Paper, Scissors\n",
      "\n",
      "    Shoot: Scissors\n"
     ]
    },
    {
     "name": "stdout",
     "output_type": "stream",
     "text": [
      "CPU chose: Scissors\n",
      "\n",
      "Round Result: It's a tie! 🤝\n",
      "Current Score: Team We - 2, Machines - 1, Stalemates - 2\n",
      "\n"
     ]
    },
    {
     "name": "stdin",
     "output_type": "stream",
     "text": [
      "Draw on scisssors...\n",
      "  Rock, Paper, Scissors\n",
      "\n",
      "    Shoot: scissors\n"
     ]
    },
    {
     "name": "stdout",
     "output_type": "stream",
     "text": [
      "CPU chose: Paper\n",
      "\n",
      "Round Result: You win! 🏆\n",
      "Current Score: Team We - 3, Machines - 1, Stalemates - 2\n",
      "\n"
     ]
    },
    {
     "name": "stdin",
     "output_type": "stream",
     "text": [
      "Draw on scisssors...\n",
      "  Rock, Paper, Scissors\n",
      "\n",
      "    Shoot: sc\n"
     ]
    },
    {
     "name": "stdout",
     "output_type": "stream",
     "text": [
      "Stop cheating. Only Rock, Paper, or Scissors\n",
      "Ready? \n"
     ]
    },
    {
     "name": "stdin",
     "output_type": "stream",
     "text": [
      "Draw on scisssors...\n",
      "  Rock, Paper, Scissors\n",
      "\n",
      "    Shoot: roCk\n"
     ]
    },
    {
     "name": "stdout",
     "output_type": "stream",
     "text": [
      "CPU chose: Scissors\n",
      "\n",
      "Round Result: You win! 🏆\n",
      "Current Score: Team We - 4, Machines - 1, Stalemates - 2\n",
      "\n"
     ]
    },
    {
     "name": "stdin",
     "output_type": "stream",
     "text": [
      "Draw on scisssors...\n",
      "  Rock, Paper, Scissors\n",
      "\n",
      "    Shoot: forfeit\n"
     ]
    },
    {
     "name": "stdout",
     "output_type": "stream",
     "text": [
      "\n",
      "Atlas! The games have concluded! \n",
      "\n",
      "Final Score: Team We - 4, Machines - 1, Stalemate - 2\n",
      "US HUMANS PREVAILED 👩‍🎓🧑‍💻🕵️‍♂️\n",
      "\n",
      "\n",
      "Round 1: You chose Rock, CPU chose Scissors\n",
      "Round 2: You chose Rock, CPU chose Rock\n",
      "Round 3: You chose Paper, CPU chose Scissors\n",
      "Round 4: You chose Paper, CPU chose Rock\n",
      "Round 5: You chose Scissors, CPU chose Scissors\n",
      "Round 6: You chose Scissors, CPU chose Paper\n",
      "Round 7: You chose Rock, CPU chose Scissors\n"
     ]
    }
   ],
   "source": [
    "import random\n",
    "\n",
    "def roshambo():\n",
    "    \n",
    "    choices = [\"rock\", \"paper\", \"scissors\"]\n",
    "    rules = {\n",
    "        \"rock\": \"scissors\",\n",
    "        \"paper\": \"rock\",\n",
    "        \"scissors\": \"paper\"\n",
    "    }\n",
    "\n",
    "    print(\"Welcome to Roshambo!\")\n",
    "    print(\"exit, quit, stop, or leave at anytime \\n\")\n",
    "\n",
    "    point_me, point_machines, stalemate = 0, 0, 0\n",
    "    scoreboard = []\n",
    "\n",
    "    while True: # start the lop\n",
    "        user_input = input(\"Draw on scisssors...\\n  Rock, Paper, Scissors\\n\\n    Shoot:\").strip().lower()\n",
    "\n",
    "        # break: allow user to leave game\n",
    "        if user_input in ['exit', 'quit','forfeit', 'stop', 'surrender' 'leave', 'Exit', 'Quit', 'Forfeit', 'Stop', 'Surrender', 'Leave', 'e', 'q', 'f', 'l']:\n",
    "            break\n",
    "\n",
    "        if user_input not in choices: # edge case: valid user input\n",
    "            print(\"Stop cheating. Only Rock, Paper, or Scissors\\nReady? \")\n",
    "            continue\n",
    "\n",
    "        cpu_choice = random.choice(choices)\n",
    "        print(f\"CPU chose: {cpu_choice.capitalize()}\")\n",
    "\n",
    "        # Determine the winner\n",
    "        if user_input == cpu_choice:\n",
    "            result = \"It's a tie! 🤝\"\n",
    "            stalemate += 1\n",
    "        elif rules[user_input] == cpu_choice:\n",
    "            result = \"You win! 🏆\"\n",
    "            point_me += 1\n",
    "        else:\n",
    "            result = \"You lose! 🤖\"\n",
    "            point_machines += 1\n",
    "\n",
    "            \n",
    "        # Print Recap\n",
    "        print(f\"\\nRound Result: {result}\")\n",
    "        scoreboard.append((user_input, cpu_choice))\n",
    "        print(f\"Current Score: Team We - {point_me}, Machines - {point_machines}, Stalemates - {stalemate}\\n\")\n",
    "\n",
    "    # Game Summary\n",
    "    print(\"\\nAtlas! The games have concluded! \\n\")\n",
    "    print(f\"Final Score: Team We - {point_me}, Machines - {point_machines}, Stalemate - {stalemate}\")\n",
    "    \n",
    "    if point_me > point_machines:\n",
    "        print(\"US HUMANS PREVAILED 👩‍🎓🧑‍💻🕵️‍♂️\")\n",
    "    \n",
    "    elif point_me < point_machines:\n",
    "        print(\"THE MACHINES HAVE WON 🤖🦾🦿\")\n",
    "    \n",
    "    else:\n",
    "        print(\"Words of the world wistfully weave a wayward, worrisome waltz 🌬🎑🗞\")\n",
    "    \n",
    "    print('\\n') # aesthetic touch \n",
    "    \n",
    "    for index, (user, cpu) in enumerate(scoreboard, start=1):\n",
    "        print(f\"Round {index}: You chose {user.capitalize()}, CPU chose {cpu.capitalize()}\")\n",
    "\n",
    "# Main function\n",
    "roshambo()\n"
   ]
  },
  {
   "cell_type": "code",
   "execution_count": null,
   "id": "d98120db-5277-49bc-9043-526ef943d660",
   "metadata": {},
   "outputs": [],
   "source": []
  }
 ],
 "metadata": {
  "kernelspec": {
   "display_name": "Python 3 (ipykernel)",
   "language": "python",
   "name": "python3"
  },
  "language_info": {
   "codemirror_mode": {
    "name": "ipython",
    "version": 3
   },
   "file_extension": ".py",
   "mimetype": "text/x-python",
   "name": "python",
   "nbconvert_exporter": "python",
   "pygments_lexer": "ipython3",
   "version": "3.11.5"
  }
 },
 "nbformat": 4,
 "nbformat_minor": 5
}
