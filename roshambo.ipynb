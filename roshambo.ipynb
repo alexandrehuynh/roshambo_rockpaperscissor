{
 "cells": [
  {
   "cell_type": "code",
   "execution_count": 2,
   "id": "8037ca46-4683-4a5a-9794-17959fcaf96a",
   "metadata": {
    "tags": []
   },
   "outputs": [],
   "source": [
    "import random\n",
    "roshambo = [\"rock\", \"paper\", \"scissors\"]"
   ]
  },
  {
   "cell_type": "code",
   "execution_count": 19,
   "id": "b590b0bf-b74d-4379-ab98-6cc3a7ec7815",
   "metadata": {
    "tags": []
   },
   "outputs": [
    {
     "name": "stdout",
     "output_type": "stream",
     "text": [
      "move:  ['scissors', 'paper', 'rock', 'paper']\n"
     ]
    }
   ],
   "source": [
    "cpu_choice = random.choices(roshambo, k = 4)\n",
    "print(\"move: \", (cpu_choice)) #list"
   ]
  },
  {
   "cell_type": "code",
   "execution_count": 20,
   "id": "17dfea9e-cd17-44e6-b5b9-d11a87f476be",
   "metadata": {
    "tags": []
   },
   "outputs": [
    {
     "name": "stdout",
     "output_type": "stream",
     "text": [
      "scissors\n",
      "paper\n",
      "rock\n",
      "paper\n"
     ]
    }
   ],
   "source": [
    "for move in cpu_choice:\n",
    "    print(move)"
   ]
  },
  {
   "cell_type": "code",
   "execution_count": 14,
   "id": "a31bd7f0-e824-4039-9c81-d0254aa565f5",
   "metadata": {
    "tags": []
   },
   "outputs": [
    {
     "name": "stdout",
     "output_type": "stream",
     "text": [
      "move:  ['scissors']\n"
     ]
    }
   ],
   "source": [
    "cpu_choice = random.choices(roshambo)\n",
    "print(\"move: \", (cpu_choice))"
   ]
  },
  {
   "cell_type": "code",
   "execution_count": 65,
   "id": "1b9be19d-2979-4d71-b06e-69288dfd1075",
   "metadata": {
    "tags": []
   },
   "outputs": [
    {
     "name": "stdout",
     "output_type": "stream",
     "text": [
      "I chose: paper\n",
      "cpu chose: rock\n",
      "the results is: I win\n"
     ]
    }
   ],
   "source": [
    "move_user = \"paper\"\n",
    "cpu_move = \"rock\"\n",
    "\n",
    "\n",
    "def who_da_winner(me, cpu):\n",
    "\n",
    "    if move_user == \"rock\":\n",
    "        if cpu_move == \"paper\":\n",
    "            return(\"lose\")\n",
    "        elif cpu_move == \"rock\":\n",
    "            return(\"tie\")\n",
    "        elif cpu_move == \"scissor\":\n",
    "            return(\"win\")\n",
    "        else:\n",
    "            return(\"something went wrong\")\n",
    "            \n",
    "    if move_user == \"paper\":\n",
    "        if cpu_move == \"paper\":\n",
    "            return(\"tie\")\n",
    "        elif cpu_move == \"rock\":\n",
    "            return(\"win\")\n",
    "        elif cpu_move == \"scissor\":\n",
    "            return(\"lose\")\n",
    "        else:\n",
    "            return(\"something went wrong\")\n",
    "            \n",
    "    if move_user == \"scissor\":\n",
    "        if cpu_move == \"paper\":\n",
    "            return(\"win\")\n",
    "        elif cpu_move == \"rock\":\n",
    "            return(\"lose\")\n",
    "        elif cpu_move == \"scissor\":\n",
    "            return(\"tie\")\n",
    "        else:\n",
    "            return(\"something went wrong\")\n",
    "\n",
    "\n",
    "who_da_winner(move_user, cpu_move)        \n",
    "print(f\"I chose: {move_user}\\ncpu chose: {cpu_move}\\nthe results is: I {who_da_winner(move_user, cpu_move)  }\")"
   ]
  },
  {
   "cell_type": "markdown",
   "id": "1f537234-4f6f-4078-a9f8-a61b447fc2b2",
   "metadata": {},
   "source": [
    "#### One Game Checkpoint"
   ]
  },
  {
   "cell_type": "code",
   "execution_count": 16,
   "id": "64e1b103-f424-4b01-a2f1-fb18dda79af1",
   "metadata": {
    "tags": []
   },
   "outputs": [
    {
     "name": "stdin",
     "output_type": "stream",
     "text": [
      "Choose Rock, Paper, or Scissors:  paper\n"
     ]
    },
    {
     "name": "stdout",
     "output_type": "stream",
     "text": [
      "CPU chose: scissors\n",
      "You lose!\n"
     ]
    }
   ],
   "source": [
    "import random\n",
    "\n",
    "def roshambo():\n",
    "    \n",
    "    choices = [\"rock\", \"paper\", \"scissors\"] # tells python the options\n",
    "    \n",
    "    rules = {\n",
    "        \"rock\": \"scissors\",\n",
    "        \"paper\": \"rock\",\n",
    "        \"scissors\": \"paper\"\n",
    "    } # rules are forever in dictionary\n",
    "    \n",
    "    user_input = input(\"Choose Rock, Paper, or Scissors: \").strip().lower()\n",
    "\n",
    "    while user_input not in choices:  # not an option\n",
    "        print(\"Invalid choice. Please choose Rock, Paper, or Scissors.\")\n",
    "        user_input = input(\"Choose Rock, Paper, or Scissors: \").strip().lower()\n",
    "\n",
    "        \n",
    "    cpu_choice = random.choice(choices)\n",
    "    print(f\"CPU chose: {cpu_choice}\")\n",
    "\n",
    "    # Determine the winner\n",
    "    if user_input == cpu_choice:\n",
    "        return \"It's a tie!\"\n",
    "    elif rules[user_input] == cpu_choice:\n",
    "        return \"You win!\"\n",
    "    else:\n",
    "        return \"You lose!\"\n",
    "\n",
    "\n",
    "    \n",
    "####    MAIN FUNCTION    ####    \n",
    "\n",
    "print(roshambo())"
   ]
  },
  {
   "cell_type": "markdown",
   "id": "4e6f50f1-08c3-4905-be8e-dcf80053a0ec",
   "metadata": {
    "tags": []
   },
   "source": [
    "#### exit game"
   ]
  },
  {
   "cell_type": "code",
   "execution_count": 19,
   "id": "d3d3eae8-6323-45c9-b5c0-eaff3728f40d",
   "metadata": {},
   "outputs": [
    {
     "name": "stdin",
     "output_type": "stream",
     "text": [
      "Choose Rock, Paper, or Scissors (or 'exit' to quit):  hi\n",
      "Choose Rock, Paper, or Scissors (or 'exit' to quit):  quit\n"
     ]
    }
   ],
   "source": [
    "while True: # start the lop\n",
    "    user_input = input(\"Choose Rock, Paper, or Scissors (or 'exit' to quit): \").strip().lower()\n",
    "\n",
    "    # break: allow user to leave game\n",
    "    # if user_input == 'exit':\n",
    "    if user_input in ['exit', 'quit','forfeit', 'stop', 'surrender' 'leave', ]:\n",
    "        break"
   ]
  },
  {
   "cell_type": "markdown",
   "id": "c4e2b3d0-63d4-4e90-9855-1ec0a731c2e1",
   "metadata": {},
   "source": [
    "#### invalid option"
   ]
  },
  {
   "cell_type": "code",
   "execution_count": 15,
   "id": "96ce1c50-28b8-407f-8538-94cd39c4f61b",
   "metadata": {
    "tags": []
   },
   "outputs": [
    {
     "name": "stdin",
     "output_type": "stream",
     "text": [
      "Rock, Paper, Scissors:  rock\n",
      "Rock, Paper, Scissors:  ro\n"
     ]
    },
    {
     "name": "stdout",
     "output_type": "stream",
     "text": [
      "Stop cheating. Only Rock, Paper, or Scissors\n",
      "Ready? \n"
     ]
    },
    {
     "name": "stdin",
     "output_type": "stream",
     "text": [
      "Rock, Paper, Scissors:  so\n"
     ]
    },
    {
     "name": "stdout",
     "output_type": "stream",
     "text": [
      "Stop cheating. Only Rock, Paper, or Scissors\n",
      "Ready? \n"
     ]
    },
    {
     "name": "stdin",
     "output_type": "stream",
     "text": [
      "Rock, Paper, Scissors:  quit\n"
     ]
    }
   ],
   "source": [
    "choices = [\"rock\", \"paper\", \"scissors\"]\n",
    "    \n",
    "while True: # start the lop\n",
    "        user_input = input(\"Choose Rock, Paper, or Scissors (or 'exit' to quit): \").strip().lower()\n",
    "\n",
    "            # break: allow user to leave game\n",
    "    if user_input in ['exit', 'quit','forfeit', 'stop', 'surrender' 'leave', ]:\n",
    "        break\n",
    "            \n",
    "    if user_input not in choices: # edge case: valid user input\n",
    "        print(\"Stop cheating. Only Rock, Paper, or Scissors\\nReady? \")\n",
    "        continue"
   ]
  },
  {
   "cell_type": "markdown",
   "id": "9edda795-abc8-4e25-a593-ac4cc5b2ed76",
   "metadata": {},
   "source": [
    "#### Multiple Rounds + keep score"
   ]
  },
  {
   "cell_type": "code",
   "execution_count": 104,
   "id": "317108be-b61a-40a3-93f9-de7d70c5b053",
   "metadata": {
    "tags": []
   },
   "outputs": [
    {
     "name": "stdin",
     "output_type": "stream",
     "text": [
      "Choose Rock, Paper, or Scissors (or 'exit' to quit):  rock\n"
     ]
    },
    {
     "name": "stdout",
     "output_type": "stream",
     "text": [
      "CPU chose: scissors\n",
      "You win!\n",
      "Score: You - 1, CPU - 0, Ties - 0\n",
      "\n"
     ]
    },
    {
     "name": "stdin",
     "output_type": "stream",
     "text": [
      "Choose Rock, Paper, or Scissors (or 'exit' to quit):  paper\n"
     ]
    },
    {
     "name": "stdout",
     "output_type": "stream",
     "text": [
      "CPU chose: scissors\n",
      "You lose!\n",
      "Score: You - 1, CPU - 1, Ties - 0\n",
      "\n"
     ]
    },
    {
     "name": "stdin",
     "output_type": "stream",
     "text": [
      "Choose Rock, Paper, or Scissors (or 'exit' to quit):  exit\n"
     ]
    },
    {
     "name": "stdout",
     "output_type": "stream",
     "text": [
      "Final Score: You - 1, CPU - 1, Ties - 0\n"
     ]
    }
   ],
   "source": [
    "import random\n",
    "\n",
    "def roshambo():\n",
    "    choices = [\"rock\", \"paper\", \"scissors\"]\n",
    "    rules = {\n",
    "        \"rock\": \"scissors\",\n",
    "        \"paper\": \"rock\",\n",
    "        \"scissors\": \"paper\"\n",
    "    }\n",
    "\n",
    "    point_me, point_machines, stalemate = 0, 0, 0\n",
    "\n",
    "    while True: \n",
    "        user_input = input(\"Choose Rock, Paper, or Scissors (or 'exit' to quit): \").strip().lower()\n",
    "\n",
    "        if user_input == 'exit':\n",
    "            break\n",
    "\n",
    "        while user_input not in choices:\n",
    "            print(\"Invalid choice. Please choose Rock, Paper, or Scissors.\")\n",
    "            user_input = input(\"Choose Rock, Paper, or Scissors: \").strip().lower()\n",
    "\n",
    "        cpu_choice = random.choice(choices)\n",
    "        print(f\"CPU chose: {cpu_choice}\")\n",
    "\n",
    "        if user_input == cpu_choice:\n",
    "            print(\"It's a tie!\")\n",
    "            stalemate += 1\n",
    "        elif rules[user_input] == cpu_choice:\n",
    "            print(\"You win!\")\n",
    "            point_me += 1\n",
    "        else:\n",
    "            print(\"You lose!\")\n",
    "            point_machines += 1\n",
    "\n",
    "        print(f\"Score: You - {point_me}, CPU - {point_machines}, Ties - {stalemate}\\n\")\n",
    "\n",
    "    return f\"Final Score: You - {point_me}, CPU - {point_machines}, Ties - {stalemate}\"\n",
    "\n",
    "\n",
    "####    MAIN FUNCTION    ####    \n",
    "\n",
    "print(roshambo())"
   ]
  },
  {
   "cell_type": "markdown",
   "id": "8c342c31-e694-47bd-b82e-d1b1aebc6839",
   "metadata": {},
   "source": [
    "#### Goes for x rounds + store history"
   ]
  },
  {
   "cell_type": "code",
   "execution_count": 30,
   "id": "8f2127e5-dd5b-4f64-98bf-92aeed1d62b5",
   "metadata": {
    "tags": []
   },
   "outputs": [
    {
     "name": "stdout",
     "output_type": "stream",
     "text": [
      "Welcome to Roshambo!\n"
     ]
    },
    {
     "name": "stdin",
     "output_type": "stream",
     "text": [
      "How many rounds would you like to play?  rock\n"
     ]
    },
    {
     "ename": "ValueError",
     "evalue": "invalid literal for int() with base 10: 'rock'",
     "output_type": "error",
     "traceback": [
      "\u001b[0;31m---------------------------------------------------------------------------\u001b[0m",
      "\u001b[0;31mValueError\u001b[0m                                Traceback (most recent call last)",
      "Cell \u001b[0;32mIn[30], line 46\u001b[0m\n\u001b[1;32m     43\u001b[0m         \u001b[38;5;28mprint\u001b[39m(\u001b[38;5;124mf\u001b[39m\u001b[38;5;124m\"\u001b[39m\u001b[38;5;124mRound \u001b[39m\u001b[38;5;132;01m{\u001b[39;00mindex\u001b[38;5;132;01m}\u001b[39;00m\u001b[38;5;124m: You chose \u001b[39m\u001b[38;5;132;01m{\u001b[39;00mplayer\u001b[38;5;132;01m}\u001b[39;00m\u001b[38;5;124m, CPU chose \u001b[39m\u001b[38;5;132;01m{\u001b[39;00mcpu\u001b[38;5;132;01m}\u001b[39;00m\u001b[38;5;124m\"\u001b[39m)\n\u001b[1;32m     45\u001b[0m \u001b[38;5;66;03m# Main function\u001b[39;00m\n\u001b[0;32m---> 46\u001b[0m roshambo()\n",
      "Cell \u001b[0;32mIn[30], line 12\u001b[0m, in \u001b[0;36mroshambo\u001b[0;34m()\u001b[0m\n\u001b[1;32m      5\u001b[0m rules \u001b[38;5;241m=\u001b[39m {\n\u001b[1;32m      6\u001b[0m     \u001b[38;5;124m\"\u001b[39m\u001b[38;5;124mrock\u001b[39m\u001b[38;5;124m\"\u001b[39m: \u001b[38;5;124m\"\u001b[39m\u001b[38;5;124mscissors\u001b[39m\u001b[38;5;124m\"\u001b[39m,\n\u001b[1;32m      7\u001b[0m     \u001b[38;5;124m\"\u001b[39m\u001b[38;5;124mpaper\u001b[39m\u001b[38;5;124m\"\u001b[39m: \u001b[38;5;124m\"\u001b[39m\u001b[38;5;124mrock\u001b[39m\u001b[38;5;124m\"\u001b[39m,\n\u001b[1;32m      8\u001b[0m     \u001b[38;5;124m\"\u001b[39m\u001b[38;5;124mscissors\u001b[39m\u001b[38;5;124m\"\u001b[39m: \u001b[38;5;124m\"\u001b[39m\u001b[38;5;124mpaper\u001b[39m\u001b[38;5;124m\"\u001b[39m\n\u001b[1;32m      9\u001b[0m }\n\u001b[1;32m     11\u001b[0m \u001b[38;5;28mprint\u001b[39m(\u001b[38;5;124m\"\u001b[39m\u001b[38;5;124mWelcome to Roshambo!\u001b[39m\u001b[38;5;124m\"\u001b[39m)\n\u001b[0;32m---> 12\u001b[0m rounds \u001b[38;5;241m=\u001b[39m \u001b[38;5;28mint\u001b[39m(\u001b[38;5;28minput\u001b[39m(\u001b[38;5;124m\"\u001b[39m\u001b[38;5;124mHow many rounds would you like to play? \u001b[39m\u001b[38;5;124m\"\u001b[39m))\n\u001b[1;32m     14\u001b[0m point_me, point_machines, stalemate \u001b[38;5;241m=\u001b[39m \u001b[38;5;241m0\u001b[39m, \u001b[38;5;241m0\u001b[39m, \u001b[38;5;241m0\u001b[39m\n\u001b[1;32m     15\u001b[0m scoreboard \u001b[38;5;241m=\u001b[39m []\n",
      "\u001b[0;31mValueError\u001b[0m: invalid literal for int() with base 10: 'rock'"
     ]
    }
   ],
   "source": [
    "import random\n",
    "\n",
    "def roshambo():\n",
    "    choices = [\"rock\", \"paper\", \"scissors\"]\n",
    "    rules = {\n",
    "        \"rock\": \"scissors\",\n",
    "        \"paper\": \"rock\",\n",
    "        \"scissors\": \"paper\"\n",
    "    }\n",
    "\n",
    "    print(\"Welcome to Roshambo!\")\n",
    "    rounds = int(input(\"How many rounds would you like to play? \"))\n",
    "\n",
    "    point_me, point_machines, stalemate = 0, 0, 0\n",
    "    scoreboard = []\n",
    "\n",
    "    for _ in range(rounds):\n",
    "        user_input = input(\"Choose Rock, Paper, or Scissors: \").strip().lower()\n",
    "        while user_input not in choices:\n",
    "            print(\"Invalid choice. Please choose Rock, Paper, or Scissors.\")\n",
    "            user_input = input(\"Choose Rock, Paper, or Scissors: \").strip().lower()\n",
    "\n",
    "        cpu_choice = random.choice(choices)  \n",
    "        print(f\"CPU chose: {cpu_choice}\")\n",
    "\n",
    "        if user_input == cpu_choice:\n",
    "            print(\"It's a tie!\")\n",
    "            stalemate += 1\n",
    "        elif rules[user_input] == cpu_choice:\n",
    "            print(\"You win!\")\n",
    "            point_me += 1\n",
    "        else:\n",
    "            print(\"You lose!\")\n",
    "            point_machines += 1\n",
    "\n",
    "        scoreboard.append((user_input, cpu_choice))\n",
    "\n",
    "    # Buzzer Sound Scoreboard \n",
    "    print(f\"Final Score: You - {point_me}, CPU - {point_machines}, Ties - {stalemate}\")\n",
    "    \n",
    "    # Play Recap\n",
    "    for index, (player, cpu) in enumerate(scoreboard, start=1):\n",
    "        print(f\"Round {index}: You chose {player}, CPU chose {cpu}\")\n",
    "\n",
    "# Main function\n",
    "roshambo()\n"
   ]
  },
  {
   "cell_type": "code",
   "execution_count": null,
   "id": "6ca38251-88d9-4957-8ea4-d8069540ae27",
   "metadata": {},
   "outputs": [],
   "source": []
  },
  {
   "cell_type": "markdown",
   "id": "12303225-2202-4035-88b5-9baf9f10f0d3",
   "metadata": {},
   "source": [
    "#### change it to continuous loop"
   ]
  },
  {
   "cell_type": "code",
   "execution_count": 31,
   "id": "46ac19f6-72c3-407f-ad05-ddddb7b0c816",
   "metadata": {
    "tags": []
   },
   "outputs": [
    {
     "name": "stdout",
     "output_type": "stream",
     "text": [
      "Welcome to Roshambo!\n",
      "exit, quit, stop, or leave at anytime \n",
      "\n"
     ]
    },
    {
     "name": "stdin",
     "output_type": "stream",
     "text": [
      "Draw on scisssors...\n",
      "  Rock, Paper, Scissors\n",
      "\n",
      "    Shoot: rock\n"
     ]
    },
    {
     "name": "stdout",
     "output_type": "stream",
     "text": [
      "CPU chose: Scissors\n",
      "\n",
      "Round Result: You win! 🏆\n",
      "Current Score: Team We - 1, Machines - 0, Stalemates - 0\n",
      "\n"
     ]
    },
    {
     "name": "stdin",
     "output_type": "stream",
     "text": [
      "Draw on scisssors...\n",
      "  Rock, Paper, Scissors\n",
      "\n",
      "    Shoot: pape\n"
     ]
    },
    {
     "name": "stdout",
     "output_type": "stream",
     "text": [
      "Stop cheating. Only Rock, Paper, or Scissors\n",
      "Ready? \n"
     ]
    },
    {
     "name": "stdin",
     "output_type": "stream",
     "text": [
      "Draw on scisssors...\n",
      "  Rock, Paper, Scissors\n",
      "\n",
      "    Shoot: paper\n"
     ]
    },
    {
     "name": "stdout",
     "output_type": "stream",
     "text": [
      "CPU chose: Rock\n",
      "\n",
      "Round Result: You win! 🏆\n",
      "Current Score: Team We - 2, Machines - 0, Stalemates - 0\n",
      "\n"
     ]
    },
    {
     "name": "stdin",
     "output_type": "stream",
     "text": [
      "Draw on scisssors...\n",
      "  Rock, Paper, Scissors\n",
      "\n",
      "    Shoot: scissors\n"
     ]
    },
    {
     "name": "stdout",
     "output_type": "stream",
     "text": [
      "CPU chose: Paper\n",
      "\n",
      "Round Result: You win! 🏆\n",
      "Current Score: Team We - 3, Machines - 0, Stalemates - 0\n",
      "\n"
     ]
    },
    {
     "name": "stdin",
     "output_type": "stream",
     "text": [
      "Draw on scisssors...\n",
      "  Rock, Paper, Scissors\n",
      "\n",
      "    Shoot: exit\n"
     ]
    },
    {
     "name": "stdout",
     "output_type": "stream",
     "text": [
      "\n",
      "Atlas! The Games have Concluded! \n",
      "\n",
      "Final Score: Team We - 3, Machines - 0, Stalemate - 0\n",
      "US HUMANS PREVAILED 👩‍🎓🧑‍💻🕵️‍♂️\n",
      "\n",
      "\n",
      "Round Recaps: \n",
      "Round 1: You chose Rock, CPU chose Scissors\n",
      "Round 2: You chose Paper, CPU chose Rock\n",
      "Round 3: You chose Scissors, CPU chose Paper\n"
     ]
    }
   ],
   "source": [
    "import random\n",
    "\n",
    "def roshambo():\n",
    "    \n",
    "    # define variables\n",
    "    choices = [\"rock\", \"paper\", \"scissors\"]\n",
    "    rules = {\n",
    "        \"rock\": \"scissors\",\n",
    "        \"paper\": \"rock\",\n",
    "        \"scissors\": \"paper\"\n",
    "    }\n",
    "    \n",
    "    # display screen\n",
    "    print(\"Welcome to Roshambo!\")\n",
    "    print(\"exit, quit, stop, or leave at anytime \\n\")\n",
    "\n",
    "    # set scoreboard\n",
    "    point_me, point_machines, stalemate = 0, 0, 0\n",
    "    scoreboard = []\n",
    "\n",
    "    while True: # start game of roshambo\n",
    "        user_input = input(\"Draw on scisssors...\\n  Rock, Paper, Scissors\\n\\n    Shoot:\").strip().lower()\n",
    "\n",
    "        # break: allow user to leave game\n",
    "        if user_input in ['exit', 'quit','forfeit', 'stop', 'surrender' 'leave', 'Exit', 'Quit', 'Forfeit', 'Stop', 'Surrender', 'Leave', 'e', 'q', 'f', 'l']:\n",
    "            break\n",
    "\n",
    "        if user_input not in choices: # edge case: valid user input\n",
    "            print(\"Stop cheating. Only Rock, Paper, or Scissors\\nReady? \")\n",
    "            continue\n",
    "\n",
    "        # cpu's move\n",
    "        cpu_choice = random.choice(choices)\n",
    "        print(f\"CPU chose: {cpu_choice.capitalize()}\")\n",
    "\n",
    "        # who's the winner\n",
    "        if user_input == cpu_choice:\n",
    "            result = \"It's a tie! 🤝\"\n",
    "            stalemate += 1\n",
    "        elif rules[user_input] == cpu_choice:\n",
    "            result = \"You win! 🏆\"\n",
    "            point_me += 1\n",
    "        else:\n",
    "            result = \"You lose! 🤖\"\n",
    "            point_machines += 1\n",
    "\n",
    "            \n",
    "        # round recap, update scoreboard\n",
    "        print(f\"\\nRound Result: {result}\")\n",
    "        scoreboard.append((user_input, cpu_choice))\n",
    "        print(f\"Current Score: Team We - {point_me}, Machines - {point_machines}, Stalemates - {stalemate}\\n\")\n",
    "\n",
    "    # game over, show final score and winner\n",
    "    print(\"\\nAtlas! The Games have Concluded! \\n\")\n",
    "    print(f\"Final Score: Team We - {point_me}, Machines - {point_machines}, Stalemate - {stalemate}\")\n",
    "    \n",
    "    if point_me > point_machines:\n",
    "        print(\"US HUMANS PREVAILED 👩‍🎓🧑‍💻🕵️‍♂️\")\n",
    "    \n",
    "    elif point_me < point_machines:\n",
    "        print(\"THE MACHINES HAVE WON 🤖🦾🦿\")\n",
    "    \n",
    "    else:\n",
    "        print(\"Words of the world wistfully weave a wayward, worrisome waltz 🌬🎑🗞\")\n",
    "    \n",
    "    print('\\n') \n",
    "    \n",
    "    # display recap of all the rounds\n",
    "    print(f\"Round Recaps: \")\n",
    "    for index, (player, cpu) in enumerate(scoreboard, start=1):\n",
    "        print(f\"Round {index}: You chose {player.capitalize()}, CPU chose {cpu.capitalize()}\")\n",
    "\n",
    "####    Main function    ####\n",
    "roshambo()\n"
   ]
  },
  {
   "cell_type": "markdown",
   "id": "7c26e20f-749b-4e84-9329-3a7e650aa6c3",
   "metadata": {
    "tags": []
   },
   "source": [
    "#### set exit commands as dictionary and emojis as tuple"
   ]
  },
  {
   "cell_type": "code",
   "execution_count": 34,
   "id": "d98120db-5277-49bc-9043-526ef943d660",
   "metadata": {},
   "outputs": [
    {
     "name": "stdout",
     "output_type": "stream",
     "text": [
      "Welcome to Roshambo!\n",
      "Type 'exit', 'quit', 'stop', 'leave', or 'forfeit' at any time to end the game.\n",
      "\n"
     ]
    },
    {
     "name": "stdin",
     "output_type": "stream",
     "text": [
      "Draw on shoot...\n",
      "  Rock, Paper, Scissors\n",
      "\n",
      "    Shoot: end\n"
     ]
    },
    {
     "name": "stdout",
     "output_type": "stream",
     "text": [
      "\n",
      "Game Over!\n",
      "\n",
      "Final Score: Humans - 0, Machines - 0, Ties - 0\n",
      "Words of the world wistfully weave a wayward, worrisome waltz with a Stalemate between Humans and Machines!\n"
     ]
    }
   ],
   "source": [
    "import random\n",
    "\n",
    "def roshambo():\n",
    "    choices = [\"rock\", \"paper\", \"scissors\"]\n",
    "    exit_commands = {'exit', 'end', 'forfeit', 'leave', 'quit', 'stop', 'surrender', 'e', 'l', 'f', 'q'}\n",
    "    rules = {\"rock\": \"scissors\", \"paper\": \"rock\", \"scissors\": \"paper\"}\n",
    "    tie_emoji, win_emoji, lose_emoji = \"🤝\", \"🏆\", \"🤖\"\n",
    "\n",
    "    print(\"Welcome to Roshambo!\")\n",
    "    print(\"Type 'exit', 'quit', 'stop', 'leave', or 'forfeit' at any time to end the game.\\n\")\n",
    "\n",
    "    point_me, point_machines, stalemate = 0, 0, 0\n",
    "    scoreboard = []\n",
    "\n",
    "    while True:\n",
    "        user_input = input(\"Draw on shoot...\\n  Rock, Paper, Scissors\\n\\n    Shoot:\").strip().lower()\n",
    "\n",
    "        if user_input in exit_commands:\n",
    "            break\n",
    "\n",
    "        if user_input not in choices:\n",
    "            print(\"Invalid choice. Please choose Rock, Paper, or Scissors.\")\n",
    "            continue\n",
    "\n",
    "        cpu_choice = random.choice(choices)\n",
    "        print(f\"CPU chose: {cpu_choice.capitalize()}\")\n",
    "\n",
    "        if user_input == cpu_choice:\n",
    "            result = f\"It's a tie! {tie_emoji}\"\n",
    "            stalemate += 1\n",
    "        elif rules[user_input] == cpu_choice:\n",
    "            result = f\"You win! {win_emoji}\"\n",
    "            point_me += 1\n",
    "        else:\n",
    "            result = f\"You lose! {lose_emoji}\"\n",
    "            point_machines += 1\n",
    "\n",
    "        print(f\"\\nRound Result: {result}\")\n",
    "        scoreboard.append((user_input, cpu_choice))\n",
    "        print(f\"Current Score: Humans - {point_me}, Machines - {point_machines}, Ties - {stalemate}\\n\")\n",
    "\n",
    "    print(\"\\nGame Over!\\n\")\n",
    "    print(f\"Final Score: Humans - {point_me}, Machines - {point_machines}, Ties - {stalemate}\")\n",
    "\n",
    "    if point_me > point_machines:\n",
    "        print(\"Humans Prevailed!\")\n",
    "    elif point_me < point_machines:\n",
    "        print(\"The Machines Have Won!\")\n",
    "    else:\n",
    "        print(\"Words of the world wistfully weave a wayward, worrisome waltz with a Stalemate between Humans and Machines!\")\n",
    "        \n",
    "    for index, (player, cpu) in enumerate(scoreboard, start=1):\n",
    "        print(f\"Round {index}: You chose {player.capitalize()}, CPU chose {cpu.capitalize()}\")\n",
    "\n",
    "roshambo()\n"
   ]
  },
  {
   "cell_type": "markdown",
   "id": "92056590-f596-4c2c-8631-a7a5a4afcaa0",
   "metadata": {},
   "source": [
    "#### combine choices and rules into one dic, add choice key, and scoreboard as dic "
   ]
  },
  {
   "cell_type": "code",
   "execution_count": 39,
   "id": "835f6f4c-097d-48ea-b572-9fe95d2bddb4",
   "metadata": {
    "tags": []
   },
   "outputs": [
    {
     "name": "stdout",
     "output_type": "stream",
     "text": [
      "Welcome to Roshambo!\n",
      "Type 'exit', 'forfeit', quit', 'stop', 'surrender' or 'leave' at any time to stop the game.\n",
      "\n"
     ]
    },
    {
     "name": "stdin",
     "output_type": "stream",
     "text": [
      "Draw on shoot...\n",
      "  Rock, Paper, Scissors\n",
      "\n",
      "    Shoot: rofk\n"
     ]
    },
    {
     "name": "stdout",
     "output_type": "stream",
     "text": [
      "Invalid choice. Try again.\n"
     ]
    },
    {
     "name": "stdin",
     "output_type": "stream",
     "text": [
      "Draw on shoot...\n",
      "  Rock, Paper, Scissors\n",
      "\n",
      "    Shoot: rock\n"
     ]
    },
    {
     "name": "stdout",
     "output_type": "stream",
     "text": [
      "CPU chose: Rock\n",
      "\n",
      "It's a tie! 🤝\n",
      "Current Score: {'Player': 0, 'CPU': 0, 'Stalemate': 1}\n",
      "\n"
     ]
    },
    {
     "name": "stdin",
     "output_type": "stream",
     "text": [
      "Draw on shoot...\n",
      "  Rock, Paper, Scissors\n",
      "\n",
      "    Shoot: paper\n"
     ]
    },
    {
     "name": "stdout",
     "output_type": "stream",
     "text": [
      "CPU chose: Rock\n",
      "\n",
      "You win! 🏆\n",
      "Current Score: {'Player': 1, 'CPU': 0, 'Stalemate': 1}\n",
      "\n"
     ]
    },
    {
     "name": "stdin",
     "output_type": "stream",
     "text": [
      "Draw on shoot...\n",
      "  Rock, Paper, Scissors\n",
      "\n",
      "    Shoot: scissors\n"
     ]
    },
    {
     "name": "stdout",
     "output_type": "stream",
     "text": [
      "CPU chose: Rock\n",
      "\n",
      "You lose! 🤖\n",
      "Current Score: {'Player': 1, 'CPU': 1, 'Stalemate': 1}\n",
      "\n"
     ]
    },
    {
     "name": "stdin",
     "output_type": "stream",
     "text": [
      "Draw on shoot...\n",
      "  Rock, Paper, Scissors\n",
      "\n",
      "    Shoot: s\n"
     ]
    },
    {
     "name": "stdout",
     "output_type": "stream",
     "text": [
      "CPU chose: Paper\n",
      "\n",
      "You win! 🏆\n",
      "Current Score: {'Player': 2, 'CPU': 1, 'Stalemate': 1}\n",
      "\n"
     ]
    },
    {
     "name": "stdin",
     "output_type": "stream",
     "text": [
      "Draw on shoot...\n",
      "  Rock, Paper, Scissors\n",
      "\n",
      "    Shoot: f\n"
     ]
    },
    {
     "name": "stdout",
     "output_type": "stream",
     "text": [
      "\n",
      "Game Over!\n",
      "Final Score: {'Player': 2, 'CPU': 1, 'Stalemate': 1}\n",
      "Humans Prevail!\n",
      "\n",
      "Round Recaps:\n",
      "Round 1: You chose Rock, CPU chose Rock\n",
      "Round 2: You chose Paper, CPU chose Rock\n",
      "Round 3: You chose Scissors, CPU chose Rock\n",
      "Round 4: You chose Scissors, CPU chose Paper\n"
     ]
    }
   ],
   "source": [
    "import random\n",
    "\n",
    "def roshambo():\n",
    "    choices = {\"rock\": \"scissors\", \"paper\": \"rock\", \"scissors\": \"paper\"}\n",
    "    choice_keys = {\"r\": \"rock\", \"p\": \"paper\", \"s\": \"scissors\"}\n",
    "    exit_commands = {'exit', 'end', 'forfeit', 'leave', 'quit', 'stop', 'surrender', 'e', 'l', 'f', 'q'}\n",
    "    tie_emoji, win_emoji, lose_emoji = \"🤝\", \"🏆\", \"🤖\"\n",
    "\n",
    "\n",
    "    print(\"Welcome to Roshambo!\")\n",
    "    print(\"Type 'exit', 'forfeit', quit', 'stop', 'surrender' or 'leave' at any time to stop the game.\\n\")\n",
    "\n",
    "    scores = {\"Player\": 0, \"CPU\": 0, \"Stalemate\": 0}\n",
    "    scoreboard = []\n",
    "\n",
    "    while True:\n",
    "        user_input = input(\"Draw on shoot...\\n  Rock, Paper, Scissors\\n\\n    Shoot:\").strip().lower()\n",
    "        \n",
    "        if user_input in exit_commands:\n",
    "            break\n",
    "\n",
    "        user_choice = choice_keys.get(user_input, user_input)\n",
    "        \n",
    "        if user_choice not in choices:\n",
    "            print(\"Invalid choice. Try again.\")\n",
    "            continue\n",
    "\n",
    "        cpu_choice = random.choice(list(choices.keys()))\n",
    "        print(f\"CPU chose: {cpu_choice.capitalize()}\\n\")\n",
    "\n",
    "        if user_choice == cpu_choice:\n",
    "            result, winner = \"It's a tie! \" + tie_emoji, \"Stalemate\"\n",
    "        elif choices[user_choice] == cpu_choice:\n",
    "            result, winner = \"You win! \" + win_emoji, \"Player\"\n",
    "        else:\n",
    "            result, winner = \"You lose! \"+ lose_emoji, \"CPU\"\n",
    "\n",
    "        scores[winner] += 1\n",
    "        scoreboard.append((user_choice, cpu_choice))\n",
    "        print(f\"{result}\\nCurrent Score: {scores}\\n\")\n",
    "\n",
    "    print(\"\\nGame Over!\\nFinal Score:\", scores)\n",
    "    if scores[\"Player\"] > scores[\"CPU\"]:\n",
    "        print(\"Humans Prevail!\")\n",
    "    elif scores[\"Player\"] < scores[\"CPU\"]:\n",
    "        print(\"Machines Win!\")\n",
    "\n",
    "    print(\"\\nRound Recaps:\")\n",
    "    for index, (player, cpu) in enumerate(scoreboard, start=1):\n",
    "        print(f\"Round {index}: You chose {player.capitalize()}, CPU chose {cpu.capitalize()}\")\n",
    "\n",
    "roshambo()\n"
   ]
  },
  {
   "cell_type": "code",
   "execution_count": null,
   "id": "b69fd425-0116-48fd-94d7-409eaf524d09",
   "metadata": {},
   "outputs": [],
   "source": []
  },
  {
   "cell_type": "markdown",
   "id": "3c069803-dd63-446e-8a7b-fb7a266ac337",
   "metadata": {},
   "source": [
    "## Final Project Debug"
   ]
  },
  {
   "cell_type": "code",
   "execution_count": 45,
   "id": "372ba544-d730-4203-903c-9ae56638d18d",
   "metadata": {
    "tags": []
   },
   "outputs": [
    {
     "name": "stdout",
     "output_type": "stream",
     "text": [
      "Welcome to Roshambo!\n",
      "Type 'exit', 'forfeit', quit', 'stop', 'surrender' or 'leave' at any time to stop the game.\n",
      "\n"
     ]
    },
    {
     "name": "stdin",
     "output_type": "stream",
     "text": [
      "Draw on shoot...\n",
      "  Rock, Paper, Scissors\n",
      "\n",
      "    Shoot: r\n"
     ]
    },
    {
     "name": "stdout",
     "output_type": "stream",
     "text": [
      "CPU chose: Rock\n",
      "\n",
      "\n",
      "Round Result: It's a tie! 🤝\n",
      "It's a tie! 🤝\n",
      "Current Score: {'Player': 0, 'CPU': 0, 'Stalemate': 1}\n",
      "\n"
     ]
    },
    {
     "name": "stdin",
     "output_type": "stream",
     "text": [
      "Draw on shoot...\n",
      "  Rock, Paper, Scissors\n",
      "\n",
      "    Shoot: p\n"
     ]
    },
    {
     "name": "stdout",
     "output_type": "stream",
     "text": [
      "CPU chose: Rock\n",
      "\n",
      "\n",
      "Round Result: You win! 🏆\n",
      "You win! 🏆\n",
      "Current Score: {'Player': 1, 'CPU': 0, 'Stalemate': 1}\n",
      "\n"
     ]
    },
    {
     "name": "stdin",
     "output_type": "stream",
     "text": [
      "Draw on shoot...\n",
      "  Rock, Paper, Scissors\n",
      "\n",
      "    Shoot: r\n"
     ]
    },
    {
     "name": "stdout",
     "output_type": "stream",
     "text": [
      "CPU chose: Scissors\n",
      "\n",
      "\n",
      "Round Result: You win! 🏆\n",
      "You win! 🏆\n",
      "Current Score: {'Player': 2, 'CPU': 0, 'Stalemate': 1}\n",
      "\n"
     ]
    },
    {
     "name": "stdin",
     "output_type": "stream",
     "text": [
      "Draw on shoot...\n",
      "  Rock, Paper, Scissors\n",
      "\n",
      "    Shoot: o\n"
     ]
    },
    {
     "name": "stdout",
     "output_type": "stream",
     "text": [
      "Stop cheating. Only Rock, Paper, or Scissors\n",
      "Ready? \n"
     ]
    },
    {
     "name": "stdin",
     "output_type": "stream",
     "text": [
      "Draw on shoot...\n",
      "  Rock, Paper, Scissors\n",
      "\n",
      "    Shoot: p\n"
     ]
    },
    {
     "name": "stdout",
     "output_type": "stream",
     "text": [
      "CPU chose: Scissors\n",
      "\n",
      "\n",
      "Round Result: You lose! 🤖\n",
      "You lose! 🤖\n",
      "Current Score: {'Player': 2, 'CPU': 1, 'Stalemate': 1}\n",
      "\n"
     ]
    },
    {
     "name": "stdin",
     "output_type": "stream",
     "text": [
      "Draw on shoot...\n",
      "  Rock, Paper, Scissors\n",
      "\n",
      "    Shoot: p\n"
     ]
    },
    {
     "name": "stdout",
     "output_type": "stream",
     "text": [
      "CPU chose: Paper\n",
      "\n",
      "\n",
      "Round Result: It's a tie! 🤝\n",
      "It's a tie! 🤝\n",
      "Current Score: {'Player': 2, 'CPU': 1, 'Stalemate': 2}\n",
      "\n"
     ]
    },
    {
     "name": "stdin",
     "output_type": "stream",
     "text": [
      "Draw on shoot...\n",
      "  Rock, Paper, Scissors\n",
      "\n",
      "    Shoot: q\n"
     ]
    },
    {
     "name": "stdout",
     "output_type": "stream",
     "text": [
      "\n",
      "Atlas! The Games have Concluded! \n",
      " {'Player': 2, 'CPU': 1, 'Stalemate': 2}\n",
      "\n",
      "Final Score: {'Player': 2, 'CPU': 1, 'Stalemate': 2}\n",
      "Humans Prevail! 👩‍🎓🧑‍💻🕵️‍♂️\n",
      "\n",
      "Round Recaps: \n",
      "Round 1: You chose Rock, CPU chose Rock\n",
      "Round 2: You chose Paper, CPU chose Rock\n",
      "Round 3: You chose Rock, CPU chose Scissors\n",
      "Round 4: You chose Paper, CPU chose Scissors\n",
      "Round 5: You chose Paper, CPU chose Paper\n"
     ]
    }
   ],
   "source": [
    "import random\n",
    "\n",
    "def roshambo():\n",
    "    \n",
    "    # define variables\n",
    "    choices = {\"rock\": \"scissors\", \"paper\": \"rock\", \"scissors\": \"paper\"}\n",
    "    choice_keys = {\"r\": \"rock\", \"p\": \"paper\", \"s\": \"scissors\"}\n",
    "    exit_commands = {'exit', 'end', 'forfeit', 'leave', 'quit', 'stop', 'surrender', 'e', 'l', 'f', 'q'}\n",
    "    tie_emoji, win_emoji, lose_emoji = \"🤝\", \"🏆\", \"🤖\"\n",
    "    \n",
    "    # display screen\n",
    "    print(\"Welcome to Roshambo!\")\n",
    "    print(\"Type 'exit', 'forfeit', quit', 'stop', 'surrender' or 'leave' at any time to stop the game.\\n\")\n",
    "    \n",
    "    # set scoreboard\n",
    "    scores = {\"Player\": 0, \"CPU\": 0, \"Stalemate\": 0}\n",
    "    scoreboard = []\n",
    "\n",
    "    while True: # start game of roshambo\n",
    "        user_input = input(\"Draw on shoot...\\n  Rock, Paper, Scissors\\n\\n    Shoot:\").strip().lower()\n",
    "\n",
    "        # break: allow user to leave game\n",
    "        if user_input in exit_commands:\n",
    "            break\n",
    "        \n",
    "        user_choice = choice_keys.get(user_input, user_input)\n",
    "            \n",
    "        if user_choice not in choices: # edge case: valid user input\n",
    "            print(\"Stop cheating. Only Rock, Paper, or Scissors\\nReady? \")\n",
    "            continue\n",
    "\n",
    "        # cpu's move\n",
    "        cpu_choice = random.choice(list(choices.keys()))\n",
    "        print(f\"CPU chose: {cpu_choice.capitalize()}\\n\")\n",
    "        \n",
    "        # who's the winner\n",
    "        if user_choice == cpu_choice:\n",
    "            result, winner = \"It's a tie! \" + tie_emoji, \"Stalemate\"\n",
    "        \n",
    "        elif choices[user_choice] == cpu_choice:\n",
    "            result, winner = \"You win! \" + win_emoji, \"Player\"\n",
    "        \n",
    "        else:\n",
    "            result, winner = \"You lose! \"+ lose_emoji, \"CPU\"\n",
    "            \n",
    "        # round recap, update scoreboard\n",
    "        print(f\"\\nRound Result: {result}\")\n",
    "        scores[winner] += 1\n",
    "        scoreboard.append((user_choice, cpu_choice))\n",
    "        print(f\"{result}\\nCurrent Score: {scores}\\n\")\n",
    "        \n",
    "    # game over, show final score and winner\n",
    "    print(\"\\nAtlas! The Games have Concluded! \\n\", scores)\n",
    "    print(\"\\nFinal Score:\", scores)\n",
    "   \n",
    "    if scores[\"Player\"] == scores[\"CPU\"] or (scores[\"Stalemate\"] > scores[\"Player\"] and scores[\"Stalemate\"] > scores[\"CPU\"]):\n",
    "        print(\"Words of the world wistfully weave a wayward, worrisome waltz with a Stalemate between Humans and Machines! 🌬🎑🗞\")\n",
    "        \n",
    "    elif scores[\"Player\"] > scores[\"CPU\"]:\n",
    "        print(\"Humans Prevail! 👩‍🎓🧑‍💻🕵️‍♂️\")\n",
    "    \n",
    "    elif scores[\"Player\"] < scores[\"CPU\"]:\n",
    "        print(\"The Machines Win! 🤖🦾🦿\")\n",
    "    \n",
    "    else:\n",
    "        print(\"Words of the world wistfully weave a wayward, worrisome waltz with a Stalemate between Humans and Machines! 🌬🎑🗞\")\n",
    "\n",
    "\n",
    "    # display recap of all the rounds\n",
    "    print(f\"\\nRound Recaps: \")\n",
    "    for index, (player, cpu) in enumerate(scoreboard, start=1):\n",
    "        print(f\"Round {index}: You chose {player.capitalize()}, CPU chose {cpu.capitalize()}\")\n",
    "\n",
    "####    Main function    ####\n",
    "roshambo()\n"
   ]
  },
  {
   "cell_type": "code",
   "execution_count": null,
   "id": "dbe32d07-1227-445f-af02-813b758bf306",
   "metadata": {},
   "outputs": [],
   "source": []
  }
 ],
 "metadata": {
  "kernelspec": {
   "display_name": "Python 3 (ipykernel)",
   "language": "python",
   "name": "python3"
  },
  "language_info": {
   "codemirror_mode": {
    "name": "ipython",
    "version": 3
   },
   "file_extension": ".py",
   "mimetype": "text/x-python",
   "name": "python",
   "nbconvert_exporter": "python",
   "pygments_lexer": "ipython3",
   "version": "3.11.5"
  }
 },
 "nbformat": 4,
 "nbformat_minor": 5
}
